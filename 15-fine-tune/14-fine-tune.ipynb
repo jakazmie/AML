{
 "cells": [
  {
   "cell_type": "markdown",
   "metadata": {},
   "source": [
    "# Part 4 - Parallel Training\n",
    "In this section of the lab we will train a small fully connected neural network using the bottleneck features created in the previous part of the lab.\n",
    "\n",
    "\n",
    "![Transfer Learning](../images/TLArch.png)\n",
    "\n",
    "We will use TensorFlow's Keras API to define the network and run training. \n",
    "\n",
    "We will run training on Azure Batch AI GPU cluster. After the model is trained, it will be registered in AML Model Registry.\n",
    "\n",
    "![AML Arch](../images/amlarch.png)\n",
    "\n"
   ]
  },
  {
   "cell_type": "markdown",
   "metadata": {},
   "source": [
    "### Create training script\n",
    "\n",
    "The script trains a simple network with one hidden layer. The input to the network is a vector of 2048 floating point numbers - the bottleneck features created in the previous step of the lab. The output layer consists of 6 units - representing six land type classes. To control overfitting the network uses a Dropout layer between the hidden layer and the output layer and L1 and L2 regularization in the output layer.\n",
    "\n",
    "The number of units in the hidden layer, L1 and L2 values, and batch size are all tuneable hyperparameters. The Dropout ratio is fixed at 0.5.\n",
    "\n",
    "Since the bottleneck feature files are small (as compared to original image datasets) they can be loaded into memory all at once. \n",
    "\n",
    "The trained model will be saved into the `./outputs` folder. This is one of the special folders in AML. The other one is the `./logs` folder. The content in these folders is automatically uploaded to the run history.\n",
    "\n",
    "The script uses AML `Run` object to track two performane measures: **training accuracy** and **validation accuracy**. The metrics are captured at the end of each epoch.\n",
    "\n",
    "#### Create a folder to hold the script"
   ]
  },
  {
   "cell_type": "code",
   "execution_count": 4,
   "metadata": {},
   "outputs": [
    {
     "name": "stdout",
     "output_type": "stream",
     "text": [
      "Found the config file in: /home/demouser/repos/AML/aml_config/config.json\n"
     ]
    }
   ],
   "source": [
    "from azureml.core import Workspace\n",
    "\n",
    "ws = Workspace.from_config()"
   ]
  },
  {
   "cell_type": "code",
   "execution_count": 7,
   "metadata": {},
   "outputs": [
    {
     "data": {
      "text/plain": [
       "'./aerial_keras/aerial_keras.h5'"
      ]
     },
     "execution_count": 7,
     "metadata": {},
     "output_type": "execute_result"
    }
   ],
   "source": [
    "from azureml.core.model import Model\n",
    "import os\n",
    "\n",
    "\n",
    "model=Model(ws, 'aerial_keras')\n",
    "model.download(target_dir = './aerial_keras')"
   ]
  },
  {
   "cell_type": "code",
   "execution_count": 9,
   "metadata": {},
   "outputs": [
    {
     "data": {
      "text/plain": [
       "'aerial_keras'"
      ]
     },
     "execution_count": 9,
     "metadata": {},
     "output_type": "execute_result"
    }
   ],
   "source": [
    "model.get_model_path('aerial_keras')"
   ]
  },
  {
   "cell_type": "code",
   "execution_count": 2,
   "metadata": {},
   "outputs": [],
   "source": [
    "import os\n",
    "script_folder = './script'\n",
    "os.makedirs(script_folder, exist_ok=True)"
   ]
  },
  {
   "cell_type": "markdown",
   "metadata": {},
   "source": [
    "#### Use Jupyter `%%writefile` magic to write the script\n"
   ]
  },
  {
   "cell_type": "code",
   "execution_count": 3,
   "metadata": {},
   "outputs": [
    {
     "name": "stdout",
     "output_type": "stream",
     "text": [
      "Writing ./script/fine-tune.py\n"
     ]
    }
   ],
   "source": [
    "%%writefile $script_folder/fine-tune.py\n",
    "\n",
    "import os\n",
    "import tensorflow as tf\n",
    "from tensorflow.keras.applications import resnet50\n",
    "from tensorflow.keras.preprocessing import image\n",
    "from tensorflow.keras.utils import to_categorical\n",
    "from tensorflow.keras.models import Model\n",
    "from tensorflow.keras.layers import Dense, GlobalAveragePooling2D, Dropout, Flatten, Input\n",
    "from tensorflow.keras.regularizers import l1_l2\n",
    "\n",
    "from azureml.core import Run\n",
    "\n",
    "import numpy as np\n",
    "import random\n",
    "import h5py\n",
    "\n",
    "import azureml.core as aml\n",
    "\n",
    "\n",
    "\n",
    "# Create custom callback to track accuracy measures in AML Experiment\n",
    "class RunCallback(tf.keras.callbacks.Callback):\n",
    "    def __init__(self, run):\n",
    "        self.run = run\n",
    "        \n",
    "    def on_epoch_end(self, batch, logs={}):\n",
    "        self.run.log(name=\"training_acc\", value=float(logs.get('acc')))\n",
    "        self.run.log(name=\"validation_acc\", value=float(logs.get('val_acc')))\n",
    "\n",
    "\n",
    "# Returns a dataset based on a list of TFRecords files passsed as a parameters. \n",
    "def create_dataset(files, batch_size=32, prefetch_buffer_size=1, train=True, buffer_size=10000, num_parallel_calls=4):\n",
    "    IMAGE_SHAPE = (224, 224, 3,)\n",
    "    NUM_CLASSES = 6\n",
    "          \n",
    "    # Extract image and label from proto Example\n",
    "    def _parse(example_proto):\n",
    "        features = {'label': tf.FixedLenFeature((), tf.int64, default_value=0),\n",
    "                    'image': tf.FixedLenFeature((), tf.string, default_value=\"\")}\n",
    "        parsed_features = tf.parse_single_example(example_proto, features)\n",
    "        label = parsed_features['label']\n",
    "        label = tf.one_hot(label, NUM_CLASSES)\n",
    "        image = image = tf.decode_raw(parsed_features['image'], tf.uint8)\n",
    "        image = tf.cast(image, tf.float32)\n",
    "        image = tf.reshape(image, IMAGE_SHAPE)\n",
    "                                                                  \n",
    "        # Pre-process image data for VGG16\n",
    "        #   RGB -> BGR\n",
    "        image = image[..., ::-1]\n",
    "        #   Substract the Imagenet mean for each channel\n",
    "        imagenet_mean=tf.constant(-np.array([103.939, 116.779, 123.68]), dtype=tf.float32)\n",
    "        image = tf.nn.bias_add(image, imagenet_mean)\n",
    "        #image = tf.subtract(image, imagenet_mean)\n",
    "        #image = resnet50.preprocess_input(image)\n",
    "        \n",
    "        return image, label\n",
    "\n",
    "    dataset = tf.data.TFRecordDataset(files)\n",
    "    dataset = dataset.map(_parse, num_parallel_calls=num_parallel_calls)\n",
    "    #dataset = dataset.map(_parse)\n",
    "    if train:\n",
    "        dataset = dataset.shuffle(buffer_size)\n",
    "    dataset = dataset.batch(batch_size=batch_size)\n",
    "    dataset = dataset.prefetch(buffer_size=prefetch_buffer_size)\n",
    "    dataset = dataset.repeat()\n",
    "\n",
    "    return dataset\n",
    "\n",
    "\n",
    "def get_num_of_records(files):\n",
    "    count = 0\n",
    "    for file in files:\n",
    "        for record in tf.python_io.tf_record_iterator(file):\n",
    "            count += 1\n",
    "    return count\n",
    "\n",
    "\n",
    "# Training regime\n",
    "def train_evaluate(run):\n",
    "   \n",
    "    \n",
    "    # Creating datasets\n",
    "    training_files = [os.path.join(FLAGS.training_dir, file) for file in os.listdir(FLAGS.training_dir)]\n",
    "    validation_files = [os.path.join(FLAGS.validation_dir, file) for file in os.listdir(FLAGS.validation_dir)]\n",
    "                                                                          \n",
    "    train_dataset = create_dataset(training_files, batch_size = 32, train=True)\n",
    "    valid_dataset = create_dataset(validation_files, batch_size = 32, train=False)\n",
    "     \n",
    "    \n",
    "    # Create a model\n",
    "    # Load the top model\n",
    "    model=Model(ws, FLAGS.model_name)\n",
    "    model.download(target_dir = '.')\n",
    "    top_model = keras.models.load_model(FLAGS.model_name)\n",
    "\n",
    "    # Create a vgg16 trunk\n",
    "    trunk = vgg16.VGG16(\n",
    "                weights = 'imagenet', \n",
    "                input_shape=(224,224,3), \n",
    "                include_top = False,\n",
    "                pooling = 'avg')\n",
    "\n",
    "    # Stack the models\n",
    "    full_model = Model(inputs=trunk.input, outputs=top_model(trunk.output))\n",
    "    full_model.summary()\n",
    "    \n",
    "    # Freeze the bottom layers. Up to the last conv block\n",
    "    for layer in trunk.layers[:15]:\n",
    "        layer.trainable = False\n",
    "    \n",
    "    for layer in trunk.layers[15:]:\n",
    "        layer.trainable = True\n",
    "    \n",
    "    # compile the model with a SGD/momentum optimizer\n",
    "    # and a very slow learning rate\n",
    "    optimizer = SGD(lr=0.00001, momentum=0.9)\n",
    "    loss = 'categorical_crossentropy'\n",
    "    metrics = ['accuracy']\n",
    "    full_model.compile(optimizer=optimizer, loss=loss, metrics=metrics)\n",
    "\n",
    "    # Create a callback\n",
    "    run_callback = RunCallback(run)\n",
    "    \n",
    "    # Set up training\n",
    "    steps_per_epoch = get_num_of_records(training_files)//FLAGS.batch_size\n",
    "    validation_steps = get_num_of_records(validation_files)//FLAGS.batch_size\n",
    "    \n",
    "    # Start training\n",
    "    print(\"Starting training\")\n",
    "    full_model.fit(train_dataset,\n",
    "        epochs = FLAGS.epochs,\n",
    "        steps_per_epoch = steps_per_epoch,\n",
    "        validation_data = valid_dataset,\n",
    "        validation_steps = validation_steps)\n",
    "          \n",
    "    # Save the trained model to outp'uts which is a standard folder expected by AML\n",
    "    print(\"Training completed.\")\n",
    "    os.makedirs('outputs', exist_ok=True)\n",
    "    model_file = os.path.join('outputs', 'aerial_keras_full.h5')\n",
    "    print(\"Saving model to: {0}\".format(model_file))\n",
    "    model.save(model_file)\n",
    "    \n",
    "\n",
    "FLAGS = tf.app.flags.FLAGS\n",
    "\n",
    "# Default global parameters\n",
    "tf.app.flags.DEFINE_integer('batch_size', 32, \"Number of images per batch\")\n",
    "tf.app.flags.DEFINE_integer('epochs', 10, \"Number of epochs to train\")\n",
    "tf.app.flags.DEFINE_string('training_dir', 'tfrecords', \"Directory with training files\")\n",
    "tf.app.flags.DEFINE_string('validation_dir', 'tfrecords', \"Directory with validation files\")\n",
    "tf.app.flags.DEFINE_string('model_name', 'aerial_keras.h5', \"Model name\")\n",
    "\n",
    "def main(argv=None):\n",
    "    # get hold of the current run\n",
    "    run = Run.get_submitted_run()\n",
    "    train_evaluate(run)\n",
    "  \n",
    "\n",
    "if __name__ == '__main__':\n",
    "    tf.app.run()"
   ]
  },
  {
   "cell_type": "markdown",
   "metadata": {},
   "source": [
    "### Connect to AML workspace\n"
   ]
  },
  {
   "cell_type": "code",
   "execution_count": 2,
   "metadata": {},
   "outputs": [
    {
     "name": "stdout",
     "output_type": "stream",
     "text": [
      "Found the config file in: /home/demouser/repos/HighPerformanceTensorFlowOnAzure/aml_config/config.json\n",
      "jkaml\n",
      "jkaml\n",
      "eastus2\n",
      "952a710c-8d9c-40c1-9fec-f752138cc0b3\n"
     ]
    }
   ],
   "source": [
    "import azureml.core\n",
    "from azureml.core import Workspace\n",
    "\n",
    "ws = Workspace.from_config()\n",
    "print(ws.name, ws.resource_group, ws.location, ws.subscription_id, sep='\\n')"
   ]
  },
  {
   "cell_type": "markdown",
   "metadata": {},
   "source": [
    "### Create Experiment\n",
    "\n",
    "We will create a new experiment to manage training logs"
   ]
  },
  {
   "cell_type": "code",
   "execution_count": null,
   "metadata": {},
   "outputs": [],
   "source": [
    "experiment_name = 'aerial-fine-tune'\n",
    "\n",
    "from azureml.core import Experiment\n",
    "exp = Experiment(workspace=ws, name=experiment_name)"
   ]
  },
  {
   "cell_type": "markdown",
   "metadata": {},
   "source": [
    "### Create  compute target\n",
    "\n",
    "We will reuse the GPU VM created in the previous step of the lab. "
   ]
  },
  {
   "cell_type": "code",
   "execution_count": 3,
   "metadata": {},
   "outputs": [
    {
     "name": "stdout",
     "output_type": "stream",
     "text": [
      "Found existing DSVM: gpudsvm\n"
     ]
    }
   ],
   "source": [
    "from azureml.core.compute import DsvmCompute\n",
    "from azureml.core.compute_target import ComputeTargetException\n",
    "\n",
    "compute_target_name = 'gpudsvm'\n",
    "compute_target_type = 'Standard_NC6'\n",
    "\n",
    "try:\n",
    "    dsvm_compute = DsvmCompute(workspace=ws, name=compute_target_name)\n",
    "    print('Found existing DSVM:', dsvm_compute.name)\n",
    "except ComputeTargetException:\n",
    "    dsvm_config = DsvmCompute.provisioning_configuration(vm_size=compute_target_type)\n",
    "    dsvm_compute = DsvmCompute.create(ws, name=compute_target_name, provisioning_configuration=dsvm_config)\n",
    "    dsvm_compute.wait_for_completion(show_output=True)"
   ]
  },
  {
   "cell_type": "markdown",
   "metadata": {},
   "source": [
    "### Configure datastore\n",
    "\n",
    "The bottleneck files have been uploaded to the workspace's default datastore during the previous step. We will mount the store on the nodes of the cluster."
   ]
  },
  {
   "cell_type": "code",
   "execution_count": null,
   "metadata": {},
   "outputs": [],
   "source": [
    "from azureml.core import Datastore\n",
    "\n",
    "ds = ws.get_default_datastore()\n",
    "print(\"Using the default datastore for training data: \")\n",
    "print(ds.name, ds.datastore_type, ds.account_name, ds.container_name)\n"
   ]
  },
  {
   "cell_type": "markdown",
   "metadata": {},
   "source": [
    "### Create an estimator\n",
    "\n",
    "As in the previous step of the lab, we will use **Estimator** to submit a run.\n"
   ]
  },
  {
   "cell_type": "code",
   "execution_count": null,
   "metadata": {},
   "outputs": [],
   "source": [
    "from azureml.train.estimator import Estimator\n",
    "\n",
    "script_params = {\n",
    "    'training_dir': ds.path('training').as_download(),\n",
    "    'validation_dir': ds.path('validation').as_download(),\n",
    "    'batch_size': 32,\n",
    "    'epochs': 50,\n",
    "    'model_name': 'aerial_keras'\n",
    "}\n",
    "\n",
    "pip_packages = ['h5py','pillow','tensorflow-gpu']\n",
    "\n",
    "est = Estimator(source_directory=script_folder,\n",
    "                script_params=script_params,\n",
    "                compute_target=dsvm_compute,\n",
    "                entry_script='train.py',\n",
    "                node_count=1,\n",
    "                process_count_per_node=1,\n",
    "                use_gpu=True,\n",
    "                pip_packages=pip_packages\n",
    "                )"
   ]
  },
  {
   "cell_type": "markdown",
   "metadata": {},
   "source": [
    "### Run the job\n",
    "\n",
    "Run the experiment by submitting the estimator object."
   ]
  },
  {
   "cell_type": "code",
   "execution_count": null,
   "metadata": {},
   "outputs": [],
   "source": [
    "run = exp.submit(config=est)\n",
    "run"
   ]
  },
  {
   "cell_type": "markdown",
   "metadata": {},
   "source": [
    "Since the call is asynchronous, it returns a **Preparing** or **Running** state as soon as the job is started.\n",
    "\n",
    "### Monitor a remote run\n",
    "\n",
    "In total, the first run takes **approximately 10 minutes**. But for subsequent runs, as long as the script dependencies don't change, the same image is reused and hence the container start up time is much faster.\n",
    "\n",
    "Here is what's happening while you wait:\n",
    "\n",
    "- **Image creation**: A Docker image is created matching the Python environment specified by the estimator. The image is uploaded to the workspace. This stage happens once for each Python environment since the container is cached for subsequent runs.  During image creation, logs are streamed to the run history. You can monitor the image creation progress using these logs.\n",
    "\n",
    "- **Scaling**: If the remote cluster requires more nodes to execute the run than currently available, additional nodes are added automatically. \n",
    "\n",
    "- **Running**: In this stage, the necessary scripts and files are sent to the compute target, then data stores are mounted/copied, then the entry_script is run. While the job is running, stdout and the ./logs directory are streamed to the run history. You can monitor the run's progress using these logs.\n",
    "\n",
    "- **Post-Processing**: The ./outputs directory of the run is copied over to the run history in your workspace so you can access these results.\n",
    "\n",
    "\n",
    "You can check the progress of a running job in multiple ways. This tutorial uses a Jupyter widget as well as a `wait_for_completion` method. \n",
    "\n",
    "### Jupyter widget\n",
    "\n",
    "Watch the progress of the run with a Jupyter widget.  Like the run submission, the widget is asynchronous and provides live updates every 10-15 seconds until the job completes. \n",
    "\n",
    "Note: Currently, there is a problem with RunDetails widget in DSVM. "
   ]
  },
  {
   "cell_type": "code",
   "execution_count": null,
   "metadata": {},
   "outputs": [],
   "source": [
    "from azureml.train.widgets import RunDetails\n",
    "RunDetails(run).show()"
   ]
  },
  {
   "cell_type": "markdown",
   "metadata": {},
   "source": [
    "### Get log results upon completion\n",
    "\n",
    "Model training and monitoring happen in the background. Wait until the model has completed training before running more code. "
   ]
  },
  {
   "cell_type": "code",
   "execution_count": null,
   "metadata": {},
   "outputs": [],
   "source": [
    "run.wait_for_completion(show_output=False) # specify True for a verbose log"
   ]
  },
  {
   "cell_type": "markdown",
   "metadata": {},
   "source": [
    "### Display run results\n",
    "\n",
    "The training has completed. You can see the logs generated during the run by executing `Run.get_file_names()` method."
   ]
  },
  {
   "cell_type": "code",
   "execution_count": null,
   "metadata": {},
   "outputs": [],
   "source": [
    "print(run.get_file_names())"
   ]
  },
  {
   "cell_type": "markdown",
   "metadata": {},
   "source": [
    "## Next Step\n",
    "\n",
    "|"
   ]
  },
  {
   "cell_type": "markdown",
   "metadata": {},
   "source": [
    "## Clean up resources\n",
    "\n",
    "Before you move to the next step, you can delete the GPU VM. We will not need it anymore."
   ]
  },
  {
   "cell_type": "code",
   "execution_count": 4,
   "metadata": {},
   "outputs": [],
   "source": [
    "dsvm_compute.delete()"
   ]
  },
  {
   "cell_type": "code",
   "execution_count": null,
   "metadata": {},
   "outputs": [],
   "source": []
  }
 ],
 "metadata": {
  "kernelspec": {
   "display_name": "Python 3",
   "language": "python",
   "name": "python3"
  },
  "language_info": {
   "codemirror_mode": {
    "name": "ipython",
    "version": 3
   },
   "file_extension": ".py",
   "mimetype": "text/x-python",
   "name": "python",
   "nbconvert_exporter": "python",
   "pygments_lexer": "ipython3",
   "version": "3.6.6"
  }
 },
 "nbformat": 4,
 "nbformat_minor": 2
}
