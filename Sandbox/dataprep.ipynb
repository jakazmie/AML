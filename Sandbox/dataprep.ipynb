{
 "cells": [
  {
   "cell_type": "code",
   "execution_count": null,
   "metadata": {},
   "outputs": [],
   "source": [
    "import os\n",
    "\n",
    "import tensorflow as tf\n",
    "\n",
    "from tensorflow.keras.applications import resnet50\n",
    "from tensorflow.keras.applications import vgg16\n",
    "from tensorflow.keras.applications import inception_v3\n",
    "from tensorflow.keras.preprocessing import image\n",
    "from tensorflow.keras.models import Model\n",
    "from tensorflow.keras.layers import Dense, GlobalAveragePooling2D, Dropout, Flatten, Input\n",
    "from tensorflow.keras.utils import to_categorical\n",
    "from tensorflow.keras.regularizers import l1_l2\n",
    "\n",
    "\n",
    "from skimage.io import imread\n",
    "\n",
    "from sklearn.model_selection import train_test_split\n",
    "\n",
    "\n",
    "import numpy as np\n",
    "\n",
    "import random\n",
    "\n",
    "import shutil\n",
    "\n",
    "from collections import Counter"
   ]
  },
  {
   "cell_type": "code",
   "execution_count": null,
   "metadata": {},
   "outputs": [],
   "source": [
    "def create_labeled_list(input_img):\n",
    "\n",
    "    folders = os.listdir(input_img)\n",
    "       \n",
    "    labeled_image_list = [(os.path.join(input_img, folder, image), folder) \n",
    "                          for folder in folders \n",
    "                          for image in os.listdir(os.path.join(input_img, folder))\n",
    "                         ]\n",
    "\n",
    "    img_list, label_list = zip(*labeled_image_list)\n",
    "    \n",
    "    return img_list, label_list"
   ]
  },
  {
   "cell_type": "code",
   "execution_count": null,
   "metadata": {},
   "outputs": [],
   "source": [
    "def create_folder_structure(base_path):\n",
    "     \n",
    "    for folder in ['train', 'valid', 'test']:\n",
    "        for folder1 in ['Barren', 'Cultivated', 'Developed', 'Forest', 'Herbaceous', 'Shrub']:\n",
    "            pathname = os.path.join(base_path, folder, folder1)\n",
    "            if not os.path.exists(pathname):\n",
    "                os.makedirs(pathname)\n",
    "                print(\"Created: {0}\".format(pathname))\n",
    "            else:\n",
    "                print(\"Path {0} exists\".format(pathname))\n"
   ]
  },
  {
   "cell_type": "code",
   "execution_count": null,
   "metadata": {},
   "outputs": [],
   "source": [
    "def copy_images(image_list, label_list, base_folder):\n",
    "\n",
    "    for source_path, label in zip(image_list, label_list):\n",
    "        filename = source_path[source_path.rfind('/')+1: len(source_path)]\n",
    "        dest_path = os.path.join(base_folder, label, filename)\n",
    "        print(\"Copying {0} to {1}\".format(source_path, dest_path))\n",
    "        shutil.copyfile(source_path, dest_path)  \n",
    "       \n",
    "    "
   ]
  },
  {
   "cell_type": "code",
   "execution_count": null,
   "metadata": {},
   "outputs": [],
   "source": [
    "def create_image_label_lists(input_img, ratio):\n",
    "    img_list, label_list = create_labeled_list(input_img)\n",
    "\n",
    "    img_list1, img_list2, \\\n",
    "    label_list1, label_list2 = train_test_split(img_list, label_list,\n",
    "                                               test_size=ratio,\n",
    "                                               random_state=0,\n",
    "                                               stratify=label_list)\n",
    "\n",
    "    img_list = img_list2\n",
    "    label_list = label_list2\n",
    "\n",
    "    train_imgs, valid_imgs, \\\n",
    "    train_labels, valid_labels = train_test_split(img_list, label_list,\n",
    "                                               test_size=0.2,\n",
    "                                               random_state=0,\n",
    "                                               stratify=label_list)\n",
    "\n",
    "    img_list = valid_imgs\n",
    "    label_list = valid_labels\n",
    "\n",
    "    valid_imgs, test_imgs, \\\n",
    "    valid_labels, test_labels = train_test_split(img_list, label_list,\n",
    "                                               test_size=0.3,\n",
    "                                               random_state=0,\n",
    "                                               stratify=label_list)\n",
    "\n",
    "    return train_imgs, train_labels, valid_imgs, valid_labels, test_imgs, test_labels"
   ]
  },
  {
   "cell_type": "code",
   "execution_count": null,
   "metadata": {},
   "outputs": [],
   "source": [
    "input_img = '../../../Datasets/aerialimages/train'\n",
    "\n",
    "train_imgs, train_labels, valid_imgs, valid_labels, test_imgs, test_labels = \\\n",
    "    create_image_label_lists(input_img, 0.1)"
   ]
  },
  {
   "cell_type": "code",
   "execution_count": null,
   "metadata": {},
   "outputs": [],
   "source": [
    "print(len(train_imgs))\n",
    "print(len(valid_imgs))\n",
    "print(len(test_imgs))\n",
    "print(len(train_labels))\n",
    "print(len(valid_labels))\n",
    "print(len(train_labels))"
   ]
  },
  {
   "cell_type": "code",
   "execution_count": null,
   "metadata": {},
   "outputs": [],
   "source": [
    "print(Counter(train_labels))\n",
    "print(Counter(valid_labels))\n",
    "print(Counter(test_labels))"
   ]
  },
  {
   "cell_type": "code",
   "execution_count": null,
   "metadata": {},
   "outputs": [],
   "source": [
    "base_folder = '../../../Datasets/aerialsmall'\n",
    "\n",
    "create_folder_structure(base_folder)"
   ]
  },
  {
   "cell_type": "code",
   "execution_count": null,
   "metadata": {},
   "outputs": [],
   "source": [
    "base_folder = '../../../Datasets/aerialsmall/train'\n",
    "copy_images(train_imgs, train_labels, base_folder)"
   ]
  },
  {
   "cell_type": "code",
   "execution_count": null,
   "metadata": {},
   "outputs": [],
   "source": [
    "base_folder = '../../../Datasets/aerialsmall/valid'\n",
    "copy_images(valid_imgs, valid_labels, base_folder)"
   ]
  },
  {
   "cell_type": "code",
   "execution_count": null,
   "metadata": {},
   "outputs": [],
   "source": [
    "base_folder = '../../../Datasets/aerialsmall/test'\n",
    "copy_images(test_imgs, test_labels, base_folder)"
   ]
  },
  {
   "cell_type": "code",
   "execution_count": null,
   "metadata": {},
   "outputs": [],
   "source": []
  }
 ],
 "metadata": {
  "kernelspec": {
   "display_name": "Python 3",
   "language": "python",
   "name": "python3"
  },
  "language_info": {
   "codemirror_mode": {
    "name": "ipython",
    "version": 3
   },
   "file_extension": ".py",
   "mimetype": "text/x-python",
   "name": "python",
   "nbconvert_exporter": "python",
   "pygments_lexer": "ipython3",
   "version": "3.6.6"
  }
 },
 "nbformat": 4,
 "nbformat_minor": 2
}
